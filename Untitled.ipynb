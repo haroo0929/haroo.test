{
 "cells": [
  {
   "cell_type": "code",
   "execution_count": 3,
   "metadata": {},
   "outputs": [],
   "source": [
    "from __future__ import print_function\n",
    "\n",
    "# Handle data\n",
    "import json\n",
    "import operator\n",
    "import collections\n",
    "import re\n",
    "\n",
    "# Handle table-like data \n",
    "import numpy as np\n",
    "import pandas as pd\n",
    "\n",
    "# Model Algorithms\n",
    "# we could use also tensor flow, there are multiple implementations of word2vec\n",
    "from gensim.models import word2vec\n",
    "\n",
    "# Modelling Helpers, see above the description\n",
    "from sklearn.manifold import TSNE\n",
    "\n",
    "# Visualisation\n",
    "import matplotlib.pyplot as plt\n",
    "import matplotlib.patches as mpatches\n",
    "import seaborn as sns\n",
    "%matplotlib inline"
   ]
  },
  {
   "cell_type": "code",
   "execution_count": 4,
   "metadata": {},
   "outputs": [],
   "source": [
    "# Load the dataset\n",
    "# json format labels: cuisine, id number and ingredients (list)\n",
    "trainrecipts = json.load(open('./train.json','r', encoding='UTF8'))"
   ]
  },
  {
   "cell_type": "code",
   "execution_count": 5,
   "metadata": {},
   "outputs": [],
   "source": [
    "# Quick&dirty code to extract info2list\n",
    "raw_ingredients = list()\n",
    "\n",
    "for recipt in trainrecipts:\n",
    "    for ingredient in recipt[u'ingredients']:\n",
    "        raw_ingredients.append(ingredient.strip())\n",
    "        \n",
    "\n",
    "raw_cuisines = list()\n",
    "for recipt in trainrecipts:\n",
    "    raw_cuisines.append(recipt[u'cuisine'].strip())"
   ]
  },
  {
   "cell_type": "code",
   "execution_count": 6,
   "metadata": {},
   "outputs": [],
   "source": [
    "# use Counter to get frequencies \n",
    "counts_ingr = collections.Counter(raw_ingredients)\n",
    "counts_cuis = collections.Counter(raw_cuisines)"
   ]
  },
  {
   "cell_type": "code",
   "execution_count": 7,
   "metadata": {},
   "outputs": [
    {
     "name": "stdout",
     "output_type": "stream",
     "text": [
      "Size Ingredients dataset (with repetition):  \t428275\n",
      "Unique Ingredients dataset: \t\t\t6714\n",
      "Total # of recipts \t\t\t\t39774\n",
      "Total # of Cuisines \t\t\t\t20\n"
     ]
    }
   ],
   "source": [
    "# this will help us to have an idea how our corpora of \n",
    "# ingredients looks like\n",
    "print('Size Ingredients dataset (with repetition):  \\t{}'.format((len(raw_ingredients))))\n",
    "print('Unique Ingredients dataset: \\t\\t\\t{}'.format((len(counts_ingr.values()))))\n",
    "\n",
    "# This will provide a distribution of cusines, indirect \n",
    "# info of the ingredients\n",
    "print('Total # of recipts \\t\\t\\t\\t{}'.format(len(raw_cuisines)))\n",
    "print('Total # of Cuisines \\t\\t\\t\\t{}'.format((len(counts_cuis.values()))))"
   ]
  },
  {
   "cell_type": "code",
   "execution_count": 8,
   "metadata": {},
   "outputs": [
    {
     "data": {
      "text/plain": [
       "[('italian', 7838),\n",
       " ('mexican', 6438),\n",
       " ('southern_us', 4320),\n",
       " ('indian', 3003),\n",
       " ('chinese', 2673),\n",
       " ('french', 2646),\n",
       " ('cajun_creole', 1546),\n",
       " ('thai', 1539),\n",
       " ('japanese', 1423),\n",
       " ('greek', 1175)]"
      ]
     },
     "execution_count": 8,
     "metadata": {},
     "output_type": "execute_result"
    }
   ],
   "source": [
    "# top 10\n",
    "counts_cuis.most_common(10)"
   ]
  },
  {
   "cell_type": "code",
   "execution_count": 9,
   "metadata": {},
   "outputs": [
    {
     "name": "stdout",
     "output_type": "stream",
     "text": [
      "1988.7\n",
      "1989.865349715905\n"
     ]
    }
   ],
   "source": [
    "# Distribution \n",
    "\n",
    "print(np.mean(list(counts_cuis.values())))\n",
    "print(np.std(list(counts_cuis.values())))"
   ]
  },
  {
   "cell_type": "code",
   "execution_count": 10,
   "metadata": {},
   "outputs": [
    {
     "data": {
      "image/png": "[encoded data removed]",
      "text/plain": [
       "<Figure size 432x288 with 1 Axes>"
      ]
     },
     "metadata": {
      "needs_background": "light"
     },
     "output_type": "display_data"
    }
   ],
   "source": [
    "# lets plot this \n",
    "# sort\n",
    "x_cu = [cu for cu, frq in counts_cuis.most_common()]\n",
    "y_frq = [frq for cu, frq in counts_cuis.most_common()]\n",
    "fbar = sns.barplot(x = x_cu, y = y_frq)\n",
    "# xlabels\n",
    "for item in fbar.get_xticklabels():\n",
    "    item.set_rotation(90)"
   ]
  },
  {
   "cell_type": "code",
   "execution_count": 11,
   "metadata": {},
   "outputs": [
    {
     "data": {
      "text/plain": [
       "20"
      ]
     },
     "execution_count": 11,
     "metadata": {},
     "output_type": "execute_result"
    }
   ],
   "source": [
    "# init a dict with a empty list\n",
    "num_ingredients = dict(zip(counts_cuis.keys(), [list() for x in counts_cuis.keys()]))\n",
    "for recipt in trainrecipts:\n",
    "    # append the number in the list\n",
    "    num_ingredients[recipt['cuisine']].append(len(recipt['ingredients']))\n",
    "\n",
    "len(num_ingredients)"
   ]
  },
  {
   "cell_type": "code",
   "execution_count": 12,
   "metadata": {},
   "outputs": [
    {
     "name": "stdout",
     "output_type": "stream",
     "text": [
      "greek    \t\t10.18\n",
      "southern_us    \t\t9.63\n",
      "filipino    \t\t10.00\n",
      "indian    \t\t12.71\n",
      "jamaican    \t\t12.21\n",
      "spanish    \t\t10.42\n",
      "italian    \t\t9.91\n",
      "mexican    \t\t10.88\n",
      "chinese    \t\t11.98\n",
      "british    \t\t9.71\n",
      "thai    \t\t12.55\n",
      "vietnamese    \t\t12.68\n",
      "cajun_creole    \t\t12.62\n",
      "brazilian    \t\t9.52\n",
      "french    \t\t9.82\n",
      "japanese    \t\t9.74\n",
      "irish    \t\t9.30\n",
      "korean    \t\t11.28\n",
      "moroccan    \t\t12.91\n",
      "russian    \t\t10.22\n"
     ]
    }
   ],
   "source": [
    "for cu, frq in num_ingredients.items():\n",
    "\n",
    "    print('{}    \\t\\t{:.2f}'.format(cu, np.mean(frq)))"
   ]
  },
  {
   "cell_type": "code",
   "execution_count": 13,
   "metadata": {},
   "outputs": [
    {
     "data": {
      "image/png": "[encoded data removed]",
      "text/plain": [
       "<Figure size 432x288 with 1 Axes>"
      ]
     },
     "metadata": {
      "needs_background": "light"
     },
     "output_type": "display_data"
    }
   ],
   "source": [
    "x_cu = [cu for cu, frq in num_ingredients.items()]\n",
    "y_frq = [np.mean(frq) for cu, frq in num_ingredients.items()]\n",
    "err = [np.std(frq) for cu, frq in num_ingredients.items()]\n",
    "fbar = sns.barplot(x = x_cu, y = y_frq, yerr=err)\n",
    "# xlabels\n",
    "for item in fbar.get_xticklabels():\n",
    "    item.set_rotation(90)"
   ]
  },
  {
   "cell_type": "code",
   "execution_count": 14,
   "metadata": {},
   "outputs": [
    {
     "name": "stdout",
     "output_type": "stream",
     "text": [
      "63.7883526958594\n",
      "388.3270259662557\n"
     ]
    }
   ],
   "source": [
    "# Dispersion of the frequencies Ingredients\n",
    "print(np.mean(list(counts_ingr.values())))\n",
    "print(np.std(list(counts_ingr.values())))"
   ]
  },
  {
   "cell_type": "code",
   "execution_count": 15,
   "metadata": {},
   "outputs": [
    {
     "name": "stdout",
     "output_type": "stream",
     "text": [
      "4.0\n",
      "[1.00000e+00 4.00000e+00 2.00000e+01 1.15644e+03]\n"
     ]
    }
   ],
   "source": [
    "# This is to big to plot, let's check the percentiles\n",
    "print(np.median(list(counts_ingr.values())))\n",
    "print(np.percentile(list(counts_ingr.values()), [25., 50., 75., 99.]))"
   ]
  },
  {
   "cell_type": "code",
   "execution_count": 16,
   "metadata": {},
   "outputs": [
    {
     "data": {
      "text/plain": [
       "[('salt', 18049),\n",
       " ('onions', 7972),\n",
       " ('olive oil', 7972),\n",
       " ('water', 7457),\n",
       " ('garlic', 7380),\n",
       " ('sugar', 6434),\n",
       " ('garlic cloves', 6237),\n",
       " ('butter', 4848),\n",
       " ('ground black pepper', 4785),\n",
       " ('all-purpose flour', 4632),\n",
       " ('pepper', 4438),\n",
       " ('vegetable oil', 4385),\n",
       " ('eggs', 3388),\n",
       " ('soy sauce', 3296),\n",
       " ('kosher salt', 3113)]"
      ]
     },
     "execution_count": 16,
     "metadata": {},
     "output_type": "execute_result"
    }
   ],
   "source": [
    "# top 15\n",
    "counts_ingr.most_common(15)"
   ]
  },
  {
   "cell_type": "code",
   "execution_count": 17,
   "metadata": {},
   "outputs": [
    {
     "data": {
      "text/plain": [
       "[('tonic water', 1),\n",
       " ('Chartreuse Liqueur', 1),\n",
       " ('aloe juice', 1),\n",
       " ('salt free chili powder', 1),\n",
       " ('tofu sour cream', 1),\n",
       " ('spicy salami', 1),\n",
       " ('Honeysuckle White® Hot Italian Turkey Sausage Links', 1),\n",
       " ('chocolate extract', 1),\n",
       " ('chocolate graham crackers', 1),\n",
       " ('cumberland sausage', 1),\n",
       " ('cocktail pumpernickel bread', 1),\n",
       " ('chunky tomatoes', 1),\n",
       " (\"Colman's Mustard Powder\", 1),\n",
       " ('manouri', 1),\n",
       " ('cherry vanilla ice cream', 1),\n",
       " ('bone-in ribeye steak', 1),\n",
       " ('frozen lemonade concentrate, thawed and undiluted', 1),\n",
       " ('flowering chinese chives', 1),\n",
       " ('praline topping', 1),\n",
       " ('riblets', 1),\n",
       " ('puff paste', 1),\n",
       " ('Barilla Plus Pasta', 1),\n",
       " ('turkey giblet stock', 1),\n",
       " ('light chicken stock', 1),\n",
       " ('conchiglie', 1),\n",
       " ('2% milk shredded mozzarella cheese', 1),\n",
       " ('Makers Mark Whisky', 1),\n",
       " ('knorr pasta side   cheesi cheddar', 1),\n",
       " ('whole grain baguette', 1),\n",
       " ('reduced sodium ham', 1),\n",
       " ('whole wheat peasant bread', 1),\n",
       " ('ranch-style seasoning', 1),\n",
       " ('ketjap', 1),\n",
       " ('chocolate flavored liqueur', 1),\n",
       " ('rotini pasta, cook and drain', 1),\n",
       " ('game', 1),\n",
       " ('tongue', 1),\n",
       " ('Daiya', 1),\n",
       " ('curry mix', 1),\n",
       " ('Kraft Slim Cut Mozzarella Cheese Slices', 1),\n",
       " ('Oscar Mayer Cotto Salami', 1),\n",
       " ('Challenge Butter', 1),\n",
       " ('orange glaze', 1),\n",
       " ('cholesterol free egg substitute', 1),\n",
       " ('ciabatta loaf', 1),\n",
       " ('Lipton® Iced Tea Brew Family Size Tea Bags', 1),\n",
       " ('Hidden Valley® Greek Yogurt Original Ranch® Dip Mix', 1),\n",
       " ('lop chong', 1),\n",
       " ('tomato garlic pasta sauce', 1),\n",
       " ('crushed cheese crackers', 1)]"
      ]
     },
     "execution_count": 17,
     "metadata": {},
     "output_type": "execute_result"
    }
   ],
   "source": [
    "# Tail 50\n",
    "counts_ingr.most_common()[-50:]"
   ]
  },
  {
   "cell_type": "code",
   "execution_count": 18,
   "metadata": {},
   "outputs": [
    {
     "data": {
      "text/plain": [
       "[('(    oz.) tomato sauce', 11),\n",
       " ('(   oz.) tomato paste', 9),\n",
       " ('(14.5 oz.) diced tomatoes', 3),\n",
       " ('(15 oz.) refried beans', 3),\n",
       " ('(10 oz.) frozen chopped spinach', 3),\n",
       " ('(10 oz.) frozen chopped spinach, thawed and squeezed dry', 2),\n",
       " ('(14 oz.) sweetened condensed milk', 2)]"
      ]
     },
     "execution_count": 18,
     "metadata": {},
     "output_type": "execute_result"
    }
   ],
   "source": [
    "symbols = list()\n",
    "\n",
    "for recipt in trainrecipts:\n",
    "\n",
    "    # I want ingredient remove \n",
    "    for ingredient in recipt['ingredients']:\n",
    "        if re.match(\"\\(|@|\\$\\?\", ingredient.lower()):\n",
    "            symbols.append(ingredient)\n",
    "len(symbols)\n",
    "counts_symbols = collections.Counter(symbols)\n",
    "counts_symbols.most_common(20)"
   ]
  },
  {
   "cell_type": "code",
   "execution_count": 19,
   "metadata": {},
   "outputs": [
    {
     "data": {
      "text/plain": [
       "39774"
      ]
     },
     "execution_count": 19,
     "metadata": {},
     "output_type": "execute_result"
    }
   ],
   "source": [
    "sentences = list()\n",
    "# one hot ingredients\n",
    "\n",
    "\n",
    "for recipt in trainrecipts:\n",
    "    clean_recipt = list()\n",
    "    # I want ingredient remove \n",
    "    for ingredient in recipt['ingredients']:\n",
    "        # remove this description from the ingredients\n",
    "        # minimal preprocessing\n",
    "        ingredient =  re.sub(r'\\(.*oz.\\)|crushed|crumbles|ground|minced|powder|chopped|sliced',\n",
    "                             '', \n",
    "                             ingredient)\n",
    "        clean_recipt.append(ingredient.strip())\n",
    "    sentences.append(clean_recipt)\n",
    "        \n",
    "len(sentences)"
   ]
  },
  {
   "cell_type": "code",
   "execution_count": 20,
   "metadata": {},
   "outputs": [],
   "source": [
    "# Set values for NN parameters\n",
    "num_features = 300    # Word vector dimensionality                      \n",
    "min_word_count = 3    # 50% of the corpus                    \n",
    "num_workers = 4       # Number of CPUs\n",
    "context = 10          # Context window size; \n",
    "                      # let's use avg recipte size                                                                                  \n",
    "downsampling = 1e-3   # threshold for configuring which \n",
    "                    # higher-frequency words are randomly downsampled\n",
    "\n",
    "# Initialize and train the model \n",
    "model = word2vec.Word2Vec(sentences, workers=num_workers, \\\n",
    "            size=num_features, min_count = min_word_count, \\\n",
    "            window = context, sample = downsampling)\n",
    "\n",
    "# If you don't plan to train the model any further, calling \n",
    "# init_sims will make the model much more memory-efficient.\n",
    "model.init_sims(replace=True)"
   ]
  },
  {
   "cell_type": "code",
   "execution_count": 21,
   "metadata": {},
   "outputs": [
    {
     "name": "stderr",
     "output_type": "stream",
     "text": [
      "C:\\Users\\chosun\\Anaconda3\\lib\\site-packages\\ipykernel_launcher.py:1: DeprecationWarning: Call to deprecated `most_similar` (Method will be removed in 4.0.0, use self.wv.most_similar() instead).\n",
      "  \"\"\"Entry point for launching an IPython kernel.\n",
      "C:\\Users\\chosun\\Anaconda3\\lib\\site-packages\\gensim\\matutils.py:737: FutureWarning: Conversion of the second argument of issubdtype from `int` to `np.signedinteger` is deprecated. In future, it will be treated as `np.int32 == np.dtype(int).type`.\n",
      "  if np.issubdtype(vec.dtype, np.int):\n"
     ]
    },
    {
     "data": {
      "text/plain": [
       "[('kalamata', 0.9360233545303345),\n",
       " ('fresh oregano', 0.9128134250640869),\n",
       " ('olives', 0.9091957211494446),\n",
       " ('pitted kalamata olives', 0.9042760133743286),\n",
       " ('roasted red peppers', 0.903057336807251),\n",
       " ('pita bread rounds', 0.9012479186058044),\n",
       " ('greek seasoning', 0.8917465209960938),\n",
       " ('grape tomatoes', 0.8859974145889282),\n",
       " ('yellow tomato', 0.8812384605407715),\n",
       " ('cherry tomatoes', 0.8762612342834473)]"
      ]
     },
     "execution_count": 21,
     "metadata": {},
     "output_type": "execute_result"
    }
   ],
   "source": [
    "model.most_similar(u'feta cheese')"
   ]
  },
  {
   "cell_type": "code",
   "execution_count": 22,
   "metadata": {},
   "outputs": [
    {
     "name": "stderr",
     "output_type": "stream",
     "text": [
      "C:\\Users\\chosun\\Anaconda3\\lib\\site-packages\\ipykernel_launcher.py:1: DeprecationWarning: Call to deprecated `similarity` (Method will be removed in 4.0.0, use self.wv.similarity() instead).\n",
      "  \"\"\"Entry point for launching an IPython kernel.\n"
     ]
    },
    {
     "data": {
      "text/plain": [
       "0.36629146"
      ]
     },
     "execution_count": 22,
     "metadata": {},
     "output_type": "execute_result"
    }
   ],
   "source": [
    "model.similarity('broccoli', 'bacon')"
   ]
  },
  {
   "cell_type": "code",
   "execution_count": 23,
   "metadata": {},
   "outputs": [
    {
     "name": "stderr",
     "output_type": "stream",
     "text": [
      "C:\\Users\\chosun\\Anaconda3\\lib\\site-packages\\ipykernel_launcher.py:1: DeprecationWarning: Call to deprecated `similarity` (Method will be removed in 4.0.0, use self.wv.similarity() instead).\n",
      "  \"\"\"Entry point for launching an IPython kernel.\n"
     ]
    },
    {
     "data": {
      "text/plain": [
       "0.6509182"
      ]
     },
     "execution_count": 23,
     "metadata": {},
     "output_type": "execute_result"
    }
   ],
   "source": [
    "model.similarity('broccoli', 'carrots')"
   ]
  },
  {
   "cell_type": "code",
   "execution_count": 24,
   "metadata": {},
   "outputs": [
    {
     "name": "stderr",
     "output_type": "stream",
     "text": [
      "C:\\Users\\chosun\\Anaconda3\\lib\\site-packages\\ipykernel_launcher.py:1: DeprecationWarning: Call to deprecated `similarity` (Method will be removed in 4.0.0, use self.wv.similarity() instead).\n",
      "  \"\"\"Entry point for launching an IPython kernel.\n"
     ]
    },
    {
     "data": {
      "text/plain": [
       "0.8350052"
      ]
     },
     "execution_count": 24,
     "metadata": {},
     "output_type": "execute_result"
    }
   ],
   "source": [
    "model.similarity('broccoli', u'mushrooms')"
   ]
  },
  {
   "cell_type": "code",
   "execution_count": 25,
   "metadata": {},
   "outputs": [
    {
     "name": "stdout",
     "output_type": "stream",
     "text": [
      " pasta is to  tomato sauce as basil is to lean  meat \n"
     ]
    },
    {
     "name": "stderr",
     "output_type": "stream",
     "text": [
      "C:\\Users\\chosun\\Anaconda3\\lib\\site-packages\\ipykernel_launcher.py:5: DeprecationWarning: Call to deprecated `most_similar` (Method will be removed in 4.0.0, use self.wv.most_similar() instead).\n",
      "  \"\"\"\n"
     ]
    }
   ],
   "source": [
    "#['garlic', 'onion'], ['olive oil']\n",
    "x = 'basil'\n",
    "b= 'tomato sauce'\n",
    "a = 'pasta'\n",
    "predicted = model.most_similar([x, b], [a])[0][0]\n",
    "print(\" {} is to  {} as {} is to {} \".format(a, b, x, predicted))"
   ]
  },
  {
   "cell_type": "code",
   "execution_count": 26,
   "metadata": {},
   "outputs": [
    {
     "name": "stdout",
     "output_type": "stream",
     "text": [
      " bacon is to  broccoli as chicken is to chili sauce \n"
     ]
    },
    {
     "name": "stderr",
     "output_type": "stream",
     "text": [
      "C:\\Users\\chosun\\Anaconda3\\lib\\site-packages\\ipykernel_launcher.py:5: DeprecationWarning: Call to deprecated `most_similar` (Method will be removed in 4.0.0, use self.wv.most_similar() instead).\n",
      "  \"\"\"\n"
     ]
    }
   ],
   "source": [
    "#['garlic', 'onion'], ['olive oil']\n",
    "x = 'chicken'\n",
    "b= 'broccoli'\n",
    "a = 'bacon'\n",
    "predicted = model.most_similar([x, b], [a])[0][0]\n",
    "print(\" {} is to  {} as {} is to {} \".format(a, b, x, predicted))"
   ]
  },
  {
   "cell_type": "code",
   "execution_count": 1,
   "metadata": {},
   "outputs": [
    {
     "ename": "SyntaxError",
     "evalue": "invalid syntax (<ipython-input-1-78181f61eb16>, line 3)",
     "output_type": "error",
     "traceback": [
      "\u001b[1;36m  File \u001b[1;32m\"<ipython-input-1-78181f61eb16>\"\u001b[1;36m, line \u001b[1;32m3\u001b[0m\n\u001b[1;33m    res = [\"prediction\", 30, 50, 20, 10, 40] csvfile = \"output.csv\"\u001b[0m\n\u001b[1;37m                                                   ^\u001b[0m\n\u001b[1;31mSyntaxError\u001b[0m\u001b[1;31m:\u001b[0m invalid syntax\n"
     ]
    }
   ],
   "source": [
    "import csv\n",
    "\n",
    "res = [\"prediction\", 30, 50, 20, 10, 40] csvfile = \"output.csv\"\n",
    "\n",
    "with open(csvfile, \"w\") as output:\n",
    "    writer = csv.writer(output, lineterminator='\\n')\n",
    "    for val in res:\n",
    "        writer.writerow([val])"
   ]
  },
  {
   "cell_type": "code",
   "execution_count": null,
   "metadata": {},
   "outputs": [],
   "source": []
  }
 ],
 "metadata": {
  "kernelspec": {
   "display_name": "Python 3",
   "language": "python",
   "name": "python3"
  },
  "language_info": {
   "codemirror_mode": {
    "name": "ipython",
    "version": 3
   },
   "file_extension": ".py",
   "mimetype": "text/x-python",
   "name": "python",
   "nbconvert_exporter": "python",
   "pygments_lexer": "ipython3",
   "version": "3.7.1"
  }
 },
 "nbformat": 4,
 "nbformat_minor": 2
}
