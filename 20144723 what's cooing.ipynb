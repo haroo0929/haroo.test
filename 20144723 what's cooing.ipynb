{
 "cells": [
  {
   "cell_type": "code",
   "execution_count": 31,
   "metadata": {
    "_uuid": "c205edbcf848d9cf24586e6fb4cb6337720a2ff6"
   },
   "outputs": [],
   "source": [
    "import json\n",
    "import numpy as np\n",
    "import pandas as pd\n",
    "import collections\n",
    "\n",
    "import matplotlib.pyplot as plt\n",
    "import seaborn as sns\n",
    "from sklearn.model_selection import cross_val_score\n",
    "from sklearn.feature_extraction.text import TfidfVectorizer\n",
    "from sklearn.preprocessing import LabelEncoder\n",
    "from sklearn.multiclass import OneVsRestClassifier\n",
    "from sklearn.svm import SVC\n",
    "\n",
    "from collections import Counter\n",
    "pd.options.display.max_colwidth = 110"
   ]
  },
  {
   "cell_type": "code",
   "execution_count": 5,
   "metadata": {
    "_uuid": "03ed470b4623ae85db8e34ac33aa34745b816d5e"
   },
   "outputs": [
    {
     "data": {
      "text/html": [
       "<div>\n",
       "<style scoped>\n",
       "    .dataframe tbody tr th:only-of-type {\n",
       "        vertical-align: middle;\n",
       "    }\n",
       "\n",
       "    .dataframe tbody tr th {\n",
       "        vertical-align: top;\n",
       "    }\n",
       "\n",
       "    .dataframe thead th {\n",
       "        text-align: right;\n",
       "    }\n",
       "</style>\n",
       "<table border=\"1\" class=\"dataframe\">\n",
       "  <thead>\n",
       "    <tr style=\"text-align: right;\">\n",
       "      <th></th>\n",
       "      <th>cuisine</th>\n",
       "      <th>ingredients</th>\n",
       "    </tr>\n",
       "    <tr>\n",
       "      <th>id</th>\n",
       "      <th></th>\n",
       "      <th></th>\n",
       "    </tr>\n",
       "  </thead>\n",
       "  <tbody>\n",
       "    <tr>\n",
       "      <th>4734</th>\n",
       "      <td>japanese</td>\n",
       "      <td>[sushi rice]</td>\n",
       "    </tr>\n",
       "    <tr>\n",
       "      <th>7833</th>\n",
       "      <td>vietnamese</td>\n",
       "      <td>[dried rice noodles]</td>\n",
       "    </tr>\n",
       "    <tr>\n",
       "      <th>36818</th>\n",
       "      <td>indian</td>\n",
       "      <td>[plain low-fat yogurt]</td>\n",
       "    </tr>\n",
       "    <tr>\n",
       "      <th>19772</th>\n",
       "      <td>indian</td>\n",
       "      <td>[unsalted butter]</td>\n",
       "    </tr>\n",
       "    <tr>\n",
       "      <th>16116</th>\n",
       "      <td>japanese</td>\n",
       "      <td>[udon]</td>\n",
       "    </tr>\n",
       "    <tr>\n",
       "      <th>29738</th>\n",
       "      <td>thai</td>\n",
       "      <td>[sticky rice]</td>\n",
       "    </tr>\n",
       "    <tr>\n",
       "      <th>41124</th>\n",
       "      <td>indian</td>\n",
       "      <td>[butter]</td>\n",
       "    </tr>\n",
       "    <tr>\n",
       "      <th>32631</th>\n",
       "      <td>mexican</td>\n",
       "      <td>[corn tortillas]</td>\n",
       "    </tr>\n",
       "    <tr>\n",
       "      <th>29570</th>\n",
       "      <td>thai</td>\n",
       "      <td>[grained]</td>\n",
       "    </tr>\n",
       "    <tr>\n",
       "      <th>29849</th>\n",
       "      <td>southern_us</td>\n",
       "      <td>[lemonade concentrate]</td>\n",
       "    </tr>\n",
       "    <tr>\n",
       "      <th>39186</th>\n",
       "      <td>thai</td>\n",
       "      <td>[jasmine rice]</td>\n",
       "    </tr>\n",
       "    <tr>\n",
       "      <th>14335</th>\n",
       "      <td>indian</td>\n",
       "      <td>[unsalted butter]</td>\n",
       "    </tr>\n",
       "    <tr>\n",
       "      <th>39221</th>\n",
       "      <td>italian</td>\n",
       "      <td>[cherry tomatoes]</td>\n",
       "    </tr>\n",
       "    <tr>\n",
       "      <th>41135</th>\n",
       "      <td>french</td>\n",
       "      <td>[butter]</td>\n",
       "    </tr>\n",
       "    <tr>\n",
       "      <th>36874</th>\n",
       "      <td>indian</td>\n",
       "      <td>[cumin seed]</td>\n",
       "    </tr>\n",
       "    <tr>\n",
       "      <th>35028</th>\n",
       "      <td>french</td>\n",
       "      <td>[haricots verts]</td>\n",
       "    </tr>\n",
       "    <tr>\n",
       "      <th>18593</th>\n",
       "      <td>mexican</td>\n",
       "      <td>[vegetable oil]</td>\n",
       "    </tr>\n",
       "    <tr>\n",
       "      <th>7460</th>\n",
       "      <td>spanish</td>\n",
       "      <td>[spanish chorizo]</td>\n",
       "    </tr>\n",
       "    <tr>\n",
       "      <th>32772</th>\n",
       "      <td>spanish</td>\n",
       "      <td>[sweetened condensed milk]</td>\n",
       "    </tr>\n",
       "    <tr>\n",
       "      <th>12805</th>\n",
       "      <td>japanese</td>\n",
       "      <td>[water]</td>\n",
       "    </tr>\n",
       "    <tr>\n",
       "      <th>10816</th>\n",
       "      <td>greek</td>\n",
       "      <td>[phyllo]</td>\n",
       "    </tr>\n",
       "    <tr>\n",
       "      <th>27192</th>\n",
       "      <td>indian</td>\n",
       "      <td>[unsalted butter]</td>\n",
       "    </tr>\n",
       "  </tbody>\n",
       "</table>\n",
       "</div>"
      ],
      "text/plain": [
       "           cuisine                 ingredients\n",
       "id                                            \n",
       "4734      japanese                [sushi rice]\n",
       "7833    vietnamese        [dried rice noodles]\n",
       "36818       indian      [plain low-fat yogurt]\n",
       "19772       indian           [unsalted butter]\n",
       "16116     japanese                      [udon]\n",
       "29738         thai               [sticky rice]\n",
       "41124       indian                    [butter]\n",
       "32631      mexican            [corn tortillas]\n",
       "29570         thai                   [grained]\n",
       "29849  southern_us      [lemonade concentrate]\n",
       "39186         thai              [jasmine rice]\n",
       "14335       indian           [unsalted butter]\n",
       "39221      italian           [cherry tomatoes]\n",
       "41135       french                    [butter]\n",
       "36874       indian                [cumin seed]\n",
       "35028       french            [haricots verts]\n",
       "18593      mexican             [vegetable oil]\n",
       "7460       spanish           [spanish chorizo]\n",
       "32772      spanish  [sweetened condensed milk]\n",
       "12805     japanese                     [water]\n",
       "10816        greek                    [phyllo]\n",
       "27192       indian           [unsalted butter]"
      ]
     },
     "execution_count": 5,
     "metadata": {},
     "output_type": "execute_result"
    }
   ],
   "source": [
    "df = pd.read_json('../train.json').set_index('id')\n",
    "df_test = pd.read_json('../test.json').set_index('id')\n",
    "df.head(10)\n",
    "df['cuisine'].unique()\n",
    "df['cuisine'].value_counts()\n",
    "df[df['ingredients'].str.len() < 2]"
   ]
  },
  {
   "cell_type": "code",
   "execution_count": 6,
   "metadata": {
    "_uuid": "9a6af838a3e3efed538e99c07b6dea88b2c021d2"
   },
   "outputs": [
    {
     "data": {
      "text/plain": [
       "Text(0.5, 1.0, 'Cuisines')"
      ]
     },
     "execution_count": 6,
     "metadata": {},
     "output_type": "execute_result"
    },
    {
     "data": {
      "image/png": "[encoded data removed]",
      "text/plain": [
       "<Figure size 432x288 with 1 Axes>"
      ]
     },
     "metadata": {
      "needs_background": "light"
     },
     "output_type": "display_data"
    }
   ],
   "source": [
    "sns.countplot(y='cuisine', order=df['cuisine'].value_counts().reset_index()['index'], data=df)\n",
    "plt.title(\"Cuisines\")"
   ]
  },
  {
   "cell_type": "code",
   "execution_count": 7,
   "metadata": {
    "_uuid": "573f496bb290f970d5be7aedcc6ae0d3e30040cf"
   },
   "outputs": [
    {
     "data": {
      "text/plain": [
       "Text(0.5, 1.0, 'Number of ingredients')"
      ]
     },
     "execution_count": 7,
     "metadata": {},
     "output_type": "execute_result"
    },
    {
     "data": {
      "image/png": "[encoded data removed]",
      "text/plain": [
       "<Figure size 1584x720 with 1 Axes>"
      ]
     },
     "metadata": {
      "needs_background": "light"
     },
     "output_type": "display_data"
    }
   ],
   "source": [
    "sns.boxplot(x='cuisine', y=df['ingredients'].str.len(), data=df)\n",
    "plt.gcf().set_size_inches(22, 10)\n",
    "plt.title('Number of ingredients')"
   ]
  },
  {
   "cell_type": "code",
   "execution_count": 8,
   "metadata": {
    "_uuid": "0427e38b52eaf95344ae0677d48f80dca6baa78b"
   },
   "outputs": [
    {
     "data": {
      "text/plain": [
       "Text(0.5, 1.0, 'Most common ingredients')"
      ]
     },
     "execution_count": 8,
     "metadata": {},
     "output_type": "execute_result"
    },
    {
     "data": {
      "image/png": "[encoded data removed]",
      "text/plain": [
       "<Figure size 432x288 with 1 Axes>"
      ]
     },
     "metadata": {
      "needs_background": "light"
     },
     "output_type": "display_data"
    }
   ],
   "source": [
    "ingredients = [item for sublist in df['ingredients'] for item in sublist]\n",
    "counter = Counter(ingredients)\n",
    "top_ingredients = counter.most_common(15)\n",
    "df_ingredients = pd.DataFrame(top_ingredients, columns=['ingredient', 'count'])\n",
    "sns.barplot(y='ingredient', x='count', data=df_ingredients)\n",
    "plt.title('Most common ingredients')"
   ]
  },
  {
   "cell_type": "code",
   "execution_count": 9,
   "metadata": {
    "_uuid": "f1567e0400dd6f55c8c19ae1fa1be8329cb6a69c"
   },
   "outputs": [],
   "source": [
    "df = df.drop(df[df['ingredients'].str.len() < 2].index, axis=0)\n",
    "df = df.drop(df[df['ingredients'].str.len() > 30].index, axis=0)"
   ]
  },
  {
   "cell_type": "code",
   "execution_count": 10,
   "metadata": {
    "_uuid": "88dd2c4be097c5cef740fcc9c03f6128f39cac53"
   },
   "outputs": [],
   "source": [
    "dfX = df['ingredients'].str.join(' ').str.lower()\n",
    "dfX_test = df_test['ingredients'].str.join(' ').str.lower()"
   ]
  },
  {
   "cell_type": "code",
   "execution_count": 11,
   "metadata": {
    "_uuid": "026c6546697d47b3f3ff5a9491485f005d5c72b2"
   },
   "outputs": [],
   "source": [
    "dfy = df['cuisine']\n",
    "lbe = LabelEncoder()\n",
    "y = lbe.fit_transform(dfy.values)"
   ]
  },
  {
   "cell_type": "code",
   "execution_count": 12,
   "metadata": {
    "_uuid": "61e4bdfb8cbf3c97552489c8d1364a2857296364"
   },
   "outputs": [],
   "source": [
    "tfidf = TfidfVectorizer(stop_words='english')\n",
    "X = tfidf.fit_transform(dfX.values)\n",
    "X_test = tfidf.transform(dfX_test.values)"
   ]
  },
  {
   "cell_type": "code",
   "execution_count": 14,
   "metadata": {
    "_uuid": "1885489111b1d3a3585306941992e2790a5fa2ce"
   },
   "outputs": [
    {
     "data": {
      "text/plain": [
       "SVC(C=100, cache_size=200, class_weight=None, coef0=1,\n",
       "  decision_function_shape=None, degree=3, gamma=1, kernel='rbf',\n",
       "  max_iter=-1, probability=False, random_state=None, shrinking=True,\n",
       "  tol=0.001, verbose=False)"
      ]
     },
     "execution_count": 14,
     "metadata": {},
     "output_type": "execute_result"
    }
   ],
   "source": [
    "clf = SVC(C=100, \n",
    "          kernel='rbf', \n",
    "          degree=3, \n",
    "          gamma=1, \n",
    "          coef0=1, \n",
    "          shrinking=True, \n",
    "          tol=0.001,  \n",
    "          probability=False, \n",
    "          cache_size=200, \n",
    "          class_weight=None,  \n",
    "          verbose=False,  \n",
    "          max_iter=-1,\n",
    "          decision_function_shape=None, \n",
    "          random_state=None)\n",
    "\n",
    "clf.fit(X, y)"
   ]
  },
  {
   "cell_type": "code",
   "execution_count": 15,
   "metadata": {
    "_uuid": "261031e2fe763da52bfb809dfcfa5d0c8e2e12da"
   },
   "outputs": [
    {
     "data": {
      "text/plain": [
       "array([0.80391121, 0.79888184, 0.80479141])"
      ]
     },
     "execution_count": 15,
     "metadata": {},
     "output_type": "execute_result"
    }
   ],
   "source": [
    "y_test = clf.predict(X_test)\n",
    "y_pred = lbe.inverse_transform(y_test)\n",
    "cross_val_score(clf, X, y, cv=3)"
   ]
  },
  {
   "cell_type": "code",
   "execution_count": 21,
   "metadata": {
    "_uuid": "3abdb13caf169b36df61027ef5265891c31b8eb4"
   },
   "outputs": [],
   "source": [
    "sub = pd.DataFrame({'id':df_test.index, 'cuisine':y_pred})\n",
    "sub.to_csv('cuisine_output.csv', index=False)"
   ]
  },
  {
   "cell_type": "code",
   "execution_count": 28,
   "metadata": {},
   "outputs": [],
   "source": [
    "trainrecipts = json.load(open('../train.json','r', encoding='UTF8'))"
   ]
  },
  {
   "cell_type": "code",
   "execution_count": 29,
   "metadata": {},
   "outputs": [],
   "source": [
    "raw_ingredients = list()\n",
    "\n",
    "for recipt in trainrecipts:\n",
    "    for ingredient in recipt[u'ingredients']:\n",
    "        raw_ingredients.append(ingredient.strip())\n",
    "        \n",
    "\n",
    "raw_cuisines = list()\n",
    "for recipt in trainrecipts:\n",
    "    raw_cuisines.append(recipt[u'cuisine'].strip())"
   ]
  },
  {
   "cell_type": "code",
   "execution_count": 32,
   "metadata": {},
   "outputs": [],
   "source": [
    "counts_ingr = collections.Counter(raw_ingredients)\n",
    "counts_cuis = collections.Counter(raw_cuisines)"
   ]
  },
  {
   "cell_type": "code",
   "execution_count": 33,
   "metadata": {},
   "outputs": [
    {
     "name": "stdout",
     "output_type": "stream",
     "text": [
      "Size Ingredients dataset (with repetition):  \t428275\n",
      "Unique Ingredients dataset: \t\t\t6714\n",
      "Total # of recipts \t\t\t\t39774\n",
      "Total # of Cuisines \t\t\t\t20\n"
     ]
    }
   ],
   "source": [
    "print('Size Ingredients dataset (with repetition):  \\t{}'.format((len(raw_ingredients))))\n",
    "print('Unique Ingredients dataset: \\t\\t\\t{}'.format((len(counts_ingr.values()))))\n",
    "\n",
    "\n",
    "print('Total # of recipts \\t\\t\\t\\t{}'.format(len(raw_cuisines)))\n",
    "print('Total # of Cuisines \\t\\t\\t\\t{}'.format((len(counts_cuis.values()))))"
   ]
  },
  {
   "cell_type": "code",
   "execution_count": 34,
   "metadata": {},
   "outputs": [
    {
     "data": {
      "text/plain": [
       "[('italian', 7838),\n",
       " ('mexican', 6438),\n",
       " ('southern_us', 4320),\n",
       " ('indian', 3003),\n",
       " ('chinese', 2673),\n",
       " ('french', 2646),\n",
       " ('cajun_creole', 1546),\n",
       " ('thai', 1539),\n",
       " ('japanese', 1423),\n",
       " ('greek', 1175)]"
      ]
     },
     "execution_count": 34,
     "metadata": {},
     "output_type": "execute_result"
    }
   ],
   "source": [
    "counts_cuis.most_common(10)"
   ]
  },
  {
   "cell_type": "code",
   "execution_count": 35,
   "metadata": {},
   "outputs": [
    {
     "name": "stdout",
     "output_type": "stream",
     "text": [
      "1988.7\n",
      "1989.865349715905\n"
     ]
    }
   ],
   "source": [
    "print(np.mean(list(counts_cuis.values())))\n",
    "print(np.std(list(counts_cuis.values())))"
   ]
  },
  {
   "cell_type": "code",
   "execution_count": 37,
   "metadata": {},
   "outputs": [
    {
     "data": {
      "text/plain": [
       "array([0.80391121, 0.79888184, 0.80479141])"
      ]
     },
     "execution_count": 37,
     "metadata": {},
     "output_type": "execute_result"
    }
   ],
   "source": [
    "y_test = clf.predict(X_test)\n",
    "y_pred = lbe.inverse_transform(y_test)\n",
    "cross_val_score(clf, X, y, cv=3)"
   ]
  },
  {
   "cell_type": "code",
   "execution_count": null,
   "metadata": {},
   "outputs": [],
   "source": []
  }
 ],
 "metadata": {
  "_draft": {
   "nbviewer_url": "https://gist.github.com/dbcc2ca0323cbcde03fdaa194c9d243c"
  },
  "gist": {
   "data": {
    "description": "workspace/cousines/Cousines.ipynb",
    "public": false
   },
   "id": "dbcc2ca0323cbcde03fdaa194c9d243c"
  },
  "kernelspec": {
   "display_name": "Python 3",
   "language": "python",
   "name": "python3"
  },
  "language_info": {
   "codemirror_mode": {
    "name": "ipython",
    "version": 3
   },
   "file_extension": ".py",
   "mimetype": "text/x-python",
   "name": "python",
   "nbconvert_exporter": "python",
   "pygments_lexer": "ipython3",
   "version": "3.7.1"
  },
  "toc": {
   "base_numbering": 1,
   "nav_menu": {
    "height": "179.986px",
    "width": "232.997px"
   },
   "number_sections": true,
   "sideBar": true,
   "skip_h1_title": false,
   "title_cell": "Table of Contents",
   "title_sidebar": "Contents",
   "toc_cell": false,
   "toc_position": {
    "height": "calc(100% - 180px)",
    "left": "10px",
    "top": "150px",
    "width": "261.165px"
   },
   "toc_section_display": true,
   "toc_window_display": true
  },
  "varInspector": {
   "cols": {
    "lenName": 16,
    "lenType": 16,
    "lenVar": 40
   },
   "kernels_config": {
    "python": {
     "delete_cmd_postfix": "",
     "delete_cmd_prefix": "del ",
     "library": "var_list.py",
     "varRefreshCmd": "print(var_dic_list())"
    },
    "r": {
     "delete_cmd_postfix": ") ",
     "delete_cmd_prefix": "rm(",
     "library": "var_list.r",
     "varRefreshCmd": "cat(var_dic_list()) "
    }
   },
   "types_to_exclude": [
    "module",
    "function",
    "builtin_function_or_method",
    "instance",
    "_Feature"
   ],
   "window_display": false
  }
 },
 "nbformat": 4,
 "nbformat_minor": 1
}
