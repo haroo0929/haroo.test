{
 "cells": [
  {
   "cell_type": "code",
   "execution_count": 1,
   "metadata": {
    "_cell_guid": "b1076dfc-b9ad-4769-8c92-a6c4dae69d19",
    "_uuid": "8f2839f25d086af736a60e9eeb907d3b93b6e0e5"
   },
   "outputs": [],
   "source": [
    "import numpy as np # linear algebra\n",
    "import pandas as pd # data processing, CSV file I/O (e.g. pd.read_csv)\n",
    "import sklearn\n",
    "from xgboost import XGBClassifier\n",
    "from sklearn.model_selection import KFold\n",
    "from sklearn.metrics import accuracy_score\n",
    "from sklearn.metrics import confusion_matrix\n",
    "from sklearn.preprocessing import LabelEncoder\n",
    "from sklearn.preprocessing import FunctionTransformer\n",
    "from sklearn.feature_selection import SelectPercentile\n",
    "from sklearn.feature_extraction.text import CountVectorizer\n",
    "from sklearn.discriminant_analysis import LinearDiscriminantAnalysis\n",
    "from sklearn.svm import LinearSVC\n",
    "from sklearn.linear_model import LogisticRegression\n",
    "from sklearn.neural_network import MLPClassifier\n",
    "from sklearn.pipeline import Pipeline\n",
    "from imblearn.over_sampling import RandomOverSampler\n",
    "import matplotlib.pyplot as plt\n",
    "import seaborn as sns\n",
    "import json\n",
    "from pprint import pprint"
   ]
  },
  {
   "cell_type": "code",
   "execution_count": 2,
   "metadata": {
    "_cell_guid": "79c7e3d0-c299-4dcb-8224-4455121ee9b0",
    "_uuid": "d629ff2d2480ee46fbb7e2d37f6b5fab8052498a"
   },
   "outputs": [
    {
     "data": {
      "text/html": [
       "<div>\n",
       "<style scoped>\n",
       "    .dataframe tbody tr th:only-of-type {\n",
       "        vertical-align: middle;\n",
       "    }\n",
       "\n",
       "    .dataframe tbody tr th {\n",
       "        vertical-align: top;\n",
       "    }\n",
       "\n",
       "    .dataframe thead th {\n",
       "        text-align: right;\n",
       "    }\n",
       "</style>\n",
       "<table border=\"1\" class=\"dataframe\">\n",
       "  <thead>\n",
       "    <tr style=\"text-align: right;\">\n",
       "      <th></th>\n",
       "      <th>cuisine</th>\n",
       "      <th>id</th>\n",
       "      <th>ingredients</th>\n",
       "    </tr>\n",
       "  </thead>\n",
       "  <tbody>\n",
       "    <tr>\n",
       "      <th>0</th>\n",
       "      <td>greek</td>\n",
       "      <td>10259</td>\n",
       "      <td>romaine lettuce|black olives|grape tomatoes|ga...</td>\n",
       "    </tr>\n",
       "    <tr>\n",
       "      <th>1</th>\n",
       "      <td>southern_us</td>\n",
       "      <td>25693</td>\n",
       "      <td>plain flour|ground pepper|salt|tomatoes|ground...</td>\n",
       "    </tr>\n",
       "    <tr>\n",
       "      <th>2</th>\n",
       "      <td>filipino</td>\n",
       "      <td>20130</td>\n",
       "      <td>eggs|pepper|salt|mayonaise|cooking oil|green c...</td>\n",
       "    </tr>\n",
       "    <tr>\n",
       "      <th>3</th>\n",
       "      <td>indian</td>\n",
       "      <td>22213</td>\n",
       "      <td>water|vegetable oil|wheat|salt</td>\n",
       "    </tr>\n",
       "    <tr>\n",
       "      <th>4</th>\n",
       "      <td>indian</td>\n",
       "      <td>13162</td>\n",
       "      <td>black pepper|shallots|cornflour|cayenne pepper...</td>\n",
       "    </tr>\n",
       "  </tbody>\n",
       "</table>\n",
       "</div>"
      ],
      "text/plain": [
       "       cuisine     id                                        ingredients\n",
       "0        greek  10259  romaine lettuce|black olives|grape tomatoes|ga...\n",
       "1  southern_us  25693  plain flour|ground pepper|salt|tomatoes|ground...\n",
       "2     filipino  20130  eggs|pepper|salt|mayonaise|cooking oil|green c...\n",
       "3       indian  22213                     water|vegetable oil|wheat|salt\n",
       "4       indian  13162  black pepper|shallots|cornflour|cayenne pepper..."
      ]
     },
     "execution_count": 2,
     "metadata": {},
     "output_type": "execute_result"
    }
   ],
   "source": [
    "df = pd.read_json('./train.json')\n",
    "df['ingredients'] = df['ingredients'].apply(lambda x: '|'.join(x))\n",
    "df.head()"
   ]
  },
  {
   "cell_type": "code",
   "execution_count": 3,
   "metadata": {
    "_uuid": "4166d4bbc24331b9a493493ded1039961da92e88"
   },
   "outputs": [
    {
     "data": {
      "text/plain": [
       "(array([ 0,  1,  2,  3,  4,  5,  6,  7,  8,  9, 10, 11, 12, 13, 14, 15, 16,\n",
       "        17, 18, 19]), <a list of 20 Text xticklabel objects>)"
      ]
     },
     "execution_count": 3,
     "metadata": {},
     "output_type": "execute_result"
    },
    {
     "data": {
      "image/png": "[encoded data removed]",
      "text/plain": [
       "<Figure size 432x288 with 1 Axes>"
      ]
     },
     "metadata": {
      "needs_background": "light"
     },
     "output_type": "display_data"
    }
   ],
   "source": [
    "sns.countplot(x=\"cuisine\", data=df)\n",
    "plt.xticks(rotation=60)"
   ]
  },
  {
   "cell_type": "code",
   "execution_count": 25,
   "metadata": {
    "_uuid": "6b82683a26f1999b3dad2d36a5d4e8c6751d684b"
   },
   "outputs": [
    {
     "name": "stderr",
     "output_type": "stream",
     "text": [
      "C:\\Users\\chosun\\Anaconda3\\lib\\site-packages\\sklearn\\utils\\validation.py:761: DataConversionWarning: A column-vector y was passed when a 1d array was expected. Please change the shape of y to (n_samples, ), for example using ravel().\n",
      "  y = column_or_1d(y, warn=True)\n"
     ]
    },
    {
     "ename": "AttributeError",
     "evalue": "'RandomOverSampler' object has no attribute 'sample'",
     "output_type": "error",
     "traceback": [
      "\u001b[1;31m---------------------------------------------------------------------------\u001b[0m",
      "\u001b[1;31mAttributeError\u001b[0m                            Traceback (most recent call last)",
      "\u001b[1;32m<ipython-input-25-983678fc46b8>\u001b[0m in \u001b[0;36m<module>\u001b[1;34m\u001b[0m\n\u001b[0;32m      7\u001b[0m \u001b[0mresampling\u001b[0m\u001b[1;33m=\u001b[0m\u001b[0mRandomOverSampler\u001b[0m\u001b[1;33m(\u001b[0m\u001b[1;33m)\u001b[0m\u001b[1;33m\u001b[0m\u001b[1;33m\u001b[0m\u001b[0m\n\u001b[0;32m      8\u001b[0m \u001b[0mresampling\u001b[0m\u001b[1;33m.\u001b[0m\u001b[0mfit\u001b[0m\u001b[1;33m(\u001b[0m\u001b[0mnp\u001b[0m\u001b[1;33m.\u001b[0m\u001b[0marange\u001b[0m\u001b[1;33m(\u001b[0m\u001b[0mlabelCount\u001b[0m\u001b[1;33m)\u001b[0m\u001b[1;33m.\u001b[0m\u001b[0mreshape\u001b[0m\u001b[1;33m(\u001b[0m\u001b[1;33m-\u001b[0m\u001b[1;36m1\u001b[0m\u001b[1;33m,\u001b[0m\u001b[1;36m1\u001b[0m\u001b[1;33m)\u001b[0m\u001b[1;33m,\u001b[0m \u001b[0mlabels\u001b[0m\u001b[1;33m.\u001b[0m\u001b[0mreshape\u001b[0m\u001b[1;33m(\u001b[0m\u001b[1;33m-\u001b[0m\u001b[1;36m1\u001b[0m\u001b[1;33m,\u001b[0m\u001b[1;36m1\u001b[0m\u001b[1;33m)\u001b[0m\u001b[1;33m)\u001b[0m\u001b[1;33m\u001b[0m\u001b[1;33m\u001b[0m\u001b[0m\n\u001b[1;32m----> 9\u001b[1;33m \u001b[0msampledIndex\u001b[0m\u001b[1;33m,\u001b[0m \u001b[0m_\u001b[0m \u001b[1;33m=\u001b[0m \u001b[0mresampling\u001b[0m\u001b[1;33m.\u001b[0m\u001b[0msample\u001b[0m\u001b[1;33m(\u001b[0m\u001b[0mnp\u001b[0m\u001b[1;33m.\u001b[0m\u001b[0marange\u001b[0m\u001b[1;33m(\u001b[0m\u001b[0mlabelCount\u001b[0m\u001b[1;33m)\u001b[0m\u001b[1;33m.\u001b[0m\u001b[0mreshape\u001b[0m\u001b[1;33m(\u001b[0m\u001b[1;33m-\u001b[0m\u001b[1;36m1\u001b[0m\u001b[1;33m,\u001b[0m\u001b[1;36m1\u001b[0m\u001b[1;33m)\u001b[0m\u001b[1;33m,\u001b[0m \u001b[0mlabels\u001b[0m\u001b[1;33m.\u001b[0m\u001b[0mreshape\u001b[0m\u001b[1;33m(\u001b[0m\u001b[1;33m-\u001b[0m\u001b[1;36m1\u001b[0m\u001b[1;33m,\u001b[0m\u001b[1;36m1\u001b[0m\u001b[1;33m)\u001b[0m\u001b[1;33m)\u001b[0m\u001b[1;33m\u001b[0m\u001b[1;33m\u001b[0m\u001b[0m\n\u001b[0m\u001b[0;32m     10\u001b[0m \u001b[0msampledIndex\u001b[0m \u001b[1;33m=\u001b[0m \u001b[0msampledIndex\u001b[0m\u001b[1;33m.\u001b[0m\u001b[0mflatten\u001b[0m\u001b[1;33m(\u001b[0m\u001b[1;33m)\u001b[0m\u001b[1;33m\u001b[0m\u001b[1;33m\u001b[0m\u001b[0m\n\u001b[0;32m     11\u001b[0m \u001b[1;33m\u001b[0m\u001b[0m\n",
      "\u001b[1;31mAttributeError\u001b[0m: 'RandomOverSampler' object has no attribute 'sample'"
     ]
    }
   ],
   "source": [
    "features = df['ingredients'].values\n",
    "\n",
    "labelEncoder = LabelEncoder()\n",
    "labels = labelEncoder.fit_transform(df['cuisine'])\n",
    "labelCount = labels.shape[0]\n",
    "\n",
    "resampling=RandomOverSampler()\n",
    "resampling.fit(np.arange(labelCount).reshape(-1,1), labels.reshape(-1,1))\n",
    "sampledIndex, _ = resampling.sample(np.arange(labelCount).reshape(-1,1), labels.reshape(-1,1))\n",
    "sampledIndex = sampledIndex.flatten()\n",
    "\n",
    "featuresSampled = features[sampledIndex]\n",
    "labelsSampled = labels[sampledIndex]"
   ]
  },
  {
   "cell_type": "code",
   "execution_count": 18,
   "metadata": {
    "_uuid": "7a0a67c403778e09792c07b46b6eb6a0181bf127"
   },
   "outputs": [
    {
     "ename": "NameError",
     "evalue": "name 'labelsSampled' is not defined",
     "output_type": "error",
     "traceback": [
      "\u001b[1;31m---------------------------------------------------------------------------\u001b[0m",
      "\u001b[1;31mNameError\u001b[0m                                 Traceback (most recent call last)",
      "\u001b[1;32m<ipython-input-18-b109b1b2388c>\u001b[0m in \u001b[0;36m<module>\u001b[1;34m\u001b[0m\n\u001b[1;32m----> 1\u001b[1;33m \u001b[0msns\u001b[0m\u001b[1;33m.\u001b[0m\u001b[0mcountplot\u001b[0m\u001b[1;33m(\u001b[0m\u001b[0mx\u001b[0m\u001b[1;33m=\u001b[0m\u001b[1;34m\"label\"\u001b[0m\u001b[1;33m,\u001b[0m \u001b[0mdata\u001b[0m\u001b[1;33m=\u001b[0m\u001b[0mpd\u001b[0m\u001b[1;33m.\u001b[0m\u001b[0mDataFrame\u001b[0m\u001b[1;33m(\u001b[0m\u001b[1;33m{\u001b[0m\u001b[1;34m'label'\u001b[0m\u001b[1;33m:\u001b[0m\u001b[0mlabelsSampled\u001b[0m\u001b[1;33m}\u001b[0m\u001b[1;33m)\u001b[0m\u001b[1;33m)\u001b[0m\u001b[1;33m;\u001b[0m\u001b[1;33m\u001b[0m\u001b[1;33m\u001b[0m\u001b[0m\n\u001b[0m",
      "\u001b[1;31mNameError\u001b[0m: name 'labelsSampled' is not defined"
     ]
    }
   ],
   "source": [
    "sns.countplot(x=\"label\", data=pd.DataFrame({'label':labelsSampled}));"
   ]
  },
  {
   "cell_type": "code",
   "execution_count": 6,
   "metadata": {
    "_uuid": "86cebdf524fba61dbc1a0949c21dbb595eeadb60"
   },
   "outputs": [
    {
     "data": {
      "text/html": [
       "<div>\n",
       "<style scoped>\n",
       "    .dataframe tbody tr th:only-of-type {\n",
       "        vertical-align: middle;\n",
       "    }\n",
       "\n",
       "    .dataframe tbody tr th {\n",
       "        vertical-align: top;\n",
       "    }\n",
       "\n",
       "    .dataframe thead th {\n",
       "        text-align: right;\n",
       "    }\n",
       "</style>\n",
       "<table border=\"1\" class=\"dataframe\">\n",
       "  <thead>\n",
       "    <tr style=\"text-align: right;\">\n",
       "      <th></th>\n",
       "      <th>cuisine</th>\n",
       "      <th>top1</th>\n",
       "      <th>top2</th>\n",
       "      <th>top3</th>\n",
       "      <th>bottom3</th>\n",
       "      <th>bottom2</th>\n",
       "      <th>bottom1</th>\n",
       "    </tr>\n",
       "  </thead>\n",
       "  <tbody>\n",
       "    <tr>\n",
       "      <th>0</th>\n",
       "      <td>brazilian</td>\n",
       "      <td>salt</td>\n",
       "      <td>onions</td>\n",
       "      <td>olive oil</td>\n",
       "      <td>mackerel</td>\n",
       "      <td>manchego cheese</td>\n",
       "      <td>1% low-fat milk</td>\n",
       "    </tr>\n",
       "    <tr>\n",
       "      <th>1</th>\n",
       "      <td>british</td>\n",
       "      <td>salt</td>\n",
       "      <td>all-purpose flour</td>\n",
       "      <td>butter</td>\n",
       "      <td>full fat coconut milk</td>\n",
       "      <td>fruitcake</td>\n",
       "      <td>eye of round roast</td>\n",
       "    </tr>\n",
       "    <tr>\n",
       "      <th>2</th>\n",
       "      <td>cajun_creole</td>\n",
       "      <td>salt</td>\n",
       "      <td>onions</td>\n",
       "      <td>garlic</td>\n",
       "      <td>king crab legs</td>\n",
       "      <td>kalamata</td>\n",
       "      <td>(    oz.) tomato sauce</td>\n",
       "    </tr>\n",
       "    <tr>\n",
       "      <th>3</th>\n",
       "      <td>chinese</td>\n",
       "      <td>soy sauce</td>\n",
       "      <td>sesame oil</td>\n",
       "      <td>salt</td>\n",
       "      <td>green split peas</td>\n",
       "      <td>green soybeans</td>\n",
       "      <td>33% less sodium smoked fully cooked ham</td>\n",
       "    </tr>\n",
       "    <tr>\n",
       "      <th>4</th>\n",
       "      <td>filipino</td>\n",
       "      <td>salt</td>\n",
       "      <td>garlic</td>\n",
       "      <td>onions</td>\n",
       "      <td>pearl couscous</td>\n",
       "      <td>egg noodles, cooked and drained</td>\n",
       "      <td>reduced sodium chicken broth</td>\n",
       "    </tr>\n",
       "    <tr>\n",
       "      <th>5</th>\n",
       "      <td>french</td>\n",
       "      <td>salt</td>\n",
       "      <td>sugar</td>\n",
       "      <td>all-purpose flour</td>\n",
       "      <td>frozen raspberries</td>\n",
       "      <td>frozen pie crust</td>\n",
       "      <td>(    oz.) tomato sauce</td>\n",
       "    </tr>\n",
       "    <tr>\n",
       "      <th>6</th>\n",
       "      <td>greek</td>\n",
       "      <td>salt</td>\n",
       "      <td>olive oil</td>\n",
       "      <td>dried oregano</td>\n",
       "      <td>lean ground meat</td>\n",
       "      <td>lavender</td>\n",
       "      <td>(10 oz.) frozen chopped spinach, thawed and sq...</td>\n",
       "    </tr>\n",
       "    <tr>\n",
       "      <th>7</th>\n",
       "      <td>indian</td>\n",
       "      <td>salt</td>\n",
       "      <td>onions</td>\n",
       "      <td>garam masala</td>\n",
       "      <td>dipping sauces</td>\n",
       "      <td>paste tomato</td>\n",
       "      <td>kale leaves</td>\n",
       "    </tr>\n",
       "    <tr>\n",
       "      <th>8</th>\n",
       "      <td>irish</td>\n",
       "      <td>salt</td>\n",
       "      <td>butter</td>\n",
       "      <td>all-purpose flour</td>\n",
       "      <td>pig feet</td>\n",
       "      <td>flavoring</td>\n",
       "      <td>demi-glace</td>\n",
       "    </tr>\n",
       "    <tr>\n",
       "      <th>9</th>\n",
       "      <td>italian</td>\n",
       "      <td>salt</td>\n",
       "      <td>olive oil</td>\n",
       "      <td>garlic cloves</td>\n",
       "      <td>frozen meatballs</td>\n",
       "      <td>frozen mini ravioli</td>\n",
       "      <td>zucchini blossoms</td>\n",
       "    </tr>\n",
       "    <tr>\n",
       "      <th>10</th>\n",
       "      <td>jamaican</td>\n",
       "      <td>salt</td>\n",
       "      <td>onions</td>\n",
       "      <td>water</td>\n",
       "      <td>mixed peel</td>\n",
       "      <td>filet</td>\n",
       "      <td>skirt steak</td>\n",
       "    </tr>\n",
       "    <tr>\n",
       "      <th>11</th>\n",
       "      <td>japanese</td>\n",
       "      <td>soy sauce</td>\n",
       "      <td>salt</td>\n",
       "      <td>mirin</td>\n",
       "      <td>fat free ice cream</td>\n",
       "      <td>fat free beef broth</td>\n",
       "      <td>1% low-fat milk</td>\n",
       "    </tr>\n",
       "    <tr>\n",
       "      <th>12</th>\n",
       "      <td>korean</td>\n",
       "      <td>soy sauce</td>\n",
       "      <td>sesame oil</td>\n",
       "      <td>garlic</td>\n",
       "      <td>steamer</td>\n",
       "      <td>habanero chile</td>\n",
       "      <td>knoblauch</td>\n",
       "    </tr>\n",
       "    <tr>\n",
       "      <th>13</th>\n",
       "      <td>mexican</td>\n",
       "      <td>salt</td>\n",
       "      <td>onions</td>\n",
       "      <td>ground cumin</td>\n",
       "      <td>leftover meat</td>\n",
       "      <td>leg of lamb</td>\n",
       "      <td>(    oz.) tomato sauce</td>\n",
       "    </tr>\n",
       "    <tr>\n",
       "      <th>14</th>\n",
       "      <td>moroccan</td>\n",
       "      <td>salt</td>\n",
       "      <td>olive oil</td>\n",
       "      <td>ground cumin</td>\n",
       "      <td>liver</td>\n",
       "      <td>liquid honey</td>\n",
       "      <td>1% low-fat milk</td>\n",
       "    </tr>\n",
       "    <tr>\n",
       "      <th>15</th>\n",
       "      <td>russian</td>\n",
       "      <td>salt</td>\n",
       "      <td>sugar</td>\n",
       "      <td>onions</td>\n",
       "      <td>malt</td>\n",
       "      <td>maggi</td>\n",
       "      <td>1% low-fat milk</td>\n",
       "    </tr>\n",
       "    <tr>\n",
       "      <th>16</th>\n",
       "      <td>southern_us</td>\n",
       "      <td>salt</td>\n",
       "      <td>butter</td>\n",
       "      <td>all-purpose flour</td>\n",
       "      <td>orange flower water</td>\n",
       "      <td>cut up chicken</td>\n",
       "      <td>1% low-fat buttermilk</td>\n",
       "    </tr>\n",
       "    <tr>\n",
       "      <th>17</th>\n",
       "      <td>spanish</td>\n",
       "      <td>salt</td>\n",
       "      <td>olive oil</td>\n",
       "      <td>garlic cloves</td>\n",
       "      <td>green plantains</td>\n",
       "      <td>sweet vermouth</td>\n",
       "      <td>taro</td>\n",
       "    </tr>\n",
       "    <tr>\n",
       "      <th>18</th>\n",
       "      <td>thai</td>\n",
       "      <td>fish sauce</td>\n",
       "      <td>garlic</td>\n",
       "      <td>salt</td>\n",
       "      <td>linguini</td>\n",
       "      <td>light rum</td>\n",
       "      <td>(    oz.) tomato sauce</td>\n",
       "    </tr>\n",
       "    <tr>\n",
       "      <th>19</th>\n",
       "      <td>vietnamese</td>\n",
       "      <td>fish sauce</td>\n",
       "      <td>sugar</td>\n",
       "      <td>salt</td>\n",
       "      <td>pickled onion</td>\n",
       "      <td>enokitake</td>\n",
       "      <td>acorn squash</td>\n",
       "    </tr>\n",
       "  </tbody>\n",
       "</table>\n",
       "</div>"
      ],
      "text/plain": [
       "         cuisine        top1               top2               top3  \\\n",
       "0      brazilian        salt             onions          olive oil   \n",
       "1        british        salt  all-purpose flour             butter   \n",
       "2   cajun_creole        salt             onions             garlic   \n",
       "3        chinese   soy sauce         sesame oil               salt   \n",
       "4       filipino        salt             garlic             onions   \n",
       "5         french        salt              sugar  all-purpose flour   \n",
       "6          greek        salt          olive oil      dried oregano   \n",
       "7         indian        salt             onions       garam masala   \n",
       "8          irish        salt             butter  all-purpose flour   \n",
       "9        italian        salt          olive oil      garlic cloves   \n",
       "10      jamaican        salt             onions              water   \n",
       "11      japanese   soy sauce               salt              mirin   \n",
       "12        korean   soy sauce         sesame oil             garlic   \n",
       "13       mexican        salt             onions       ground cumin   \n",
       "14      moroccan        salt          olive oil       ground cumin   \n",
       "15       russian        salt              sugar             onions   \n",
       "16   southern_us        salt             butter  all-purpose flour   \n",
       "17       spanish        salt          olive oil      garlic cloves   \n",
       "18          thai  fish sauce             garlic               salt   \n",
       "19    vietnamese  fish sauce              sugar               salt   \n",
       "\n",
       "                  bottom3                          bottom2  \\\n",
       "0                mackerel                  manchego cheese   \n",
       "1   full fat coconut milk                        fruitcake   \n",
       "2          king crab legs                         kalamata   \n",
       "3        green split peas                   green soybeans   \n",
       "4          pearl couscous  egg noodles, cooked and drained   \n",
       "5      frozen raspberries                 frozen pie crust   \n",
       "6        lean ground meat                         lavender   \n",
       "7          dipping sauces                     paste tomato   \n",
       "8                pig feet                        flavoring   \n",
       "9        frozen meatballs              frozen mini ravioli   \n",
       "10             mixed peel                            filet   \n",
       "11     fat free ice cream              fat free beef broth   \n",
       "12                steamer                   habanero chile   \n",
       "13          leftover meat                      leg of lamb   \n",
       "14                  liver                     liquid honey   \n",
       "15                   malt                            maggi   \n",
       "16    orange flower water                   cut up chicken   \n",
       "17        green plantains                   sweet vermouth   \n",
       "18               linguini                        light rum   \n",
       "19          pickled onion                        enokitake   \n",
       "\n",
       "                                              bottom1  \n",
       "0                                     1% low-fat milk  \n",
       "1                                  eye of round roast  \n",
       "2                              (    oz.) tomato sauce  \n",
       "3             33% less sodium smoked fully cooked ham  \n",
       "4                        reduced sodium chicken broth  \n",
       "5                              (    oz.) tomato sauce  \n",
       "6   (10 oz.) frozen chopped spinach, thawed and sq...  \n",
       "7                                         kale leaves  \n",
       "8                                          demi-glace  \n",
       "9                                   zucchini blossoms  \n",
       "10                                        skirt steak  \n",
       "11                                    1% low-fat milk  \n",
       "12                                          knoblauch  \n",
       "13                             (    oz.) tomato sauce  \n",
       "14                                    1% low-fat milk  \n",
       "15                                    1% low-fat milk  \n",
       "16                              1% low-fat buttermilk  \n",
       "17                                               taro  \n",
       "18                             (    oz.) tomato sauce  \n",
       "19                                       acorn squash  "
      ]
     },
     "execution_count": 6,
     "metadata": {},
     "output_type": "execute_result"
    }
   ],
   "source": [
    "cv = CountVectorizer(stop_words=None, token_pattern='.+', tokenizer=lambda x: x.split('|'), max_df=1., min_df=1)\n",
    "mostLeastIngr = []\n",
    "for l in labelEncoder.classes_:\n",
    "    ingr = df.loc[df['cuisine']==l, 'ingredients']\n",
    "    ingrVect = cv.fit_transform(ingr)\n",
    "    vocabularyDict = cv.vocabulary_\n",
    "    invVocabularyDict = {v: k for k, v in vocabularyDict.items()}\n",
    "    s = np.array(ingrVect.sum(0))[0]\n",
    "    idx = np.argsort(s)\n",
    "    mostLeastIngr.append([l, invVocabularyDict[idx[-1]], invVocabularyDict[idx[-2]], invVocabularyDict[idx[-3]], invVocabularyDict[idx[2]], invVocabularyDict[idx[1]], invVocabularyDict[idx[0]]])\n",
    "mostLeastIngr = pd.DataFrame(mostLeastIngr, columns=['cuisine','top1','top2','top3','bottom3','bottom2','bottom1'])\n",
    "mostLeastIngr"
   ]
  },
  {
   "cell_type": "code",
   "execution_count": 7,
   "metadata": {
    "_uuid": "9de0a608d13c189c6ce41d2821a4ce4301ba6813"
   },
   "outputs": [
    {
     "data": {
      "image/png": "[encoded data removed]",
      "text/plain": [
       "<Figure size 1080x360 with 1 Axes>"
      ]
     },
     "metadata": {
      "needs_background": "light"
     },
     "output_type": "display_data"
    }
   ],
   "source": [
    "cv = CountVectorizer(stop_words=None, token_pattern='.+', tokenizer=lambda x: x.split('|'), max_df=1., min_df=0.1)\n",
    "ingrVect = cv.fit_transform(features)\n",
    "vocabularyDict = cv.vocabulary_\n",
    "invVocabularyDict = {v: k for k, v in vocabularyDict.items()}\n",
    "s = np.array(ingrVect.sum(0))[0]\n",
    "idx = np.argsort(s)\n",
    "columns =[invVocabularyDict[idx[-1]], invVocabularyDict[idx[-2]], invVocabularyDict[idx[-3]], invVocabularyDict[idx[2]], invVocabularyDict[idx[1]], invVocabularyDict[idx[0]]]\n",
    "mostLeastIngr = df[['cuisine']].copy()\n",
    "mostLeastIngr['cuisine']\n",
    "for i in [-1, -2, -3, 2, 1, 0]:\n",
    "    mostLeastIngr[invVocabularyDict[idx[i]]] = ingrVect[:, idx[i]].toarray().flatten()\n",
    "ingrFreqPerCuisine = mostLeastIngr.groupby('cuisine').mean()\n",
    "\n",
    "ingrFreqPerCuisine.plot.bar(figsize=(15,5));"
   ]
  },
  {
   "cell_type": "code",
   "execution_count": 8,
   "metadata": {
    "_uuid": "3b537fc0f8c1330d08f0fb8a4dfc9931f9308a0e"
   },
   "outputs": [
    {
     "ename": "NameError",
     "evalue": "name 'featuresSampled' is not defined",
     "output_type": "error",
     "traceback": [
      "\u001b[1;31m---------------------------------------------------------------------------\u001b[0m",
      "\u001b[1;31mNameError\u001b[0m                                 Traceback (most recent call last)",
      "\u001b[1;32m<ipython-input-8-46cc1c09390a>\u001b[0m in \u001b[0;36m<module>\u001b[1;34m\u001b[0m\n\u001b[0;32m      2\u001b[0m \u001b[0mi\u001b[0m \u001b[1;33m=\u001b[0m \u001b[1;36m1\u001b[0m\u001b[1;33m\u001b[0m\u001b[1;33m\u001b[0m\u001b[0m\n\u001b[0;32m      3\u001b[0m \u001b[1;33m\u001b[0m\u001b[0m\n\u001b[1;32m----> 4\u001b[1;33m \u001b[1;32mfor\u001b[0m \u001b[0mtrain_idx\u001b[0m\u001b[1;33m,\u001b[0m \u001b[0mvalidate_idx\u001b[0m \u001b[1;32min\u001b[0m \u001b[0mkfold\u001b[0m\u001b[1;33m.\u001b[0m\u001b[0msplit\u001b[0m\u001b[1;33m(\u001b[0m\u001b[0mfeaturesSampled\u001b[0m\u001b[1;33m,\u001b[0m \u001b[0mlabelsSampled\u001b[0m\u001b[1;33m)\u001b[0m\u001b[1;33m:\u001b[0m\u001b[1;33m\u001b[0m\u001b[1;33m\u001b[0m\u001b[0m\n\u001b[0m\u001b[0;32m      5\u001b[0m     ingr_clf = Pipeline([('Vect', CountVectorizer(stop_words=None, token_pattern='.+', tokenizer=lambda x: x.split('|'), max_df=0.9, min_df=1)),\n\u001b[0;32m      6\u001b[0m                          \u001b[1;31m#('FeatureSelection', SelectPercentile(sklearn.feature_selection.chi2, percentile=50)),\u001b[0m\u001b[1;33m\u001b[0m\u001b[1;33m\u001b[0m\u001b[1;33m\u001b[0m\u001b[0m\n",
      "\u001b[1;31mNameError\u001b[0m: name 'featuresSampled' is not defined"
     ]
    }
   ],
   "source": [
    "kfold = KFold(3)\n",
    "i = 1\n",
    "\n",
    "for train_idx, validate_idx in kfold.split(featuresSampled, labelsSampled):\n",
    "    ingr_clf = Pipeline([('Vect', CountVectorizer(stop_words=None, token_pattern='.+', tokenizer=lambda x: x.split('|'), max_df=0.9, min_df=1)),\n",
    "                         #('FeatureSelection', SelectPercentile(sklearn.feature_selection.chi2, percentile=50)),\n",
    "                         #('ToDense', FunctionTransformer(lambda x: x.todense(), accept_sparse=True)),\n",
    "                         ('Classif', LinearSVC())])\n",
    "    ingr_clf.fit(featuresSampled[train_idx], labelsSampled[train_idx])\n",
    "    predicted = ingr_clf.predict(featuresSampled[validate_idx])\n",
    "    print(accuracy_score(predicted, labelsSampled[validate_idx]))\n",
    "    plt.subplot(3,1,i)\n",
    "    plt.imshow(confusion_matrix(predicted, labelsSampled[validate_idx]))\n",
    "    i+=1"
   ]
  },
  {
   "cell_type": "code",
   "execution_count": 9,
   "metadata": {
    "_uuid": "24ba54f4e00af14ddd26289c44a460455d098b07"
   },
   "outputs": [
    {
     "data": {
      "text/plain": [
       "Pipeline(memory=None,\n",
       "     steps=[('Vect', CountVectorizer(analyzer='word', binary=False, decode_error='strict',\n",
       "        dtype=<class 'numpy.int64'>, encoding='utf-8', input='content',\n",
       "        lowercase=True, max_df=1.0, max_features=None, min_df=1,\n",
       "        ngram_range=(1, 1), preprocessor=None, stop_words=None,\n",
       "        strip...ax_iter=1000,\n",
       "     multi_class='ovr', penalty='l2', random_state=None, tol=0.0001,\n",
       "     verbose=0))])"
      ]
     },
     "execution_count": 9,
     "metadata": {},
     "output_type": "execute_result"
    }
   ],
   "source": [
    "ingr_clf = Pipeline([('Vect', CountVectorizer(stop_words=None, token_pattern='.+', tokenizer=lambda x: x.split('|'), max_df=1., min_df=1)),\n",
    "                     #('ToDense', FunctionTransformer(lambda x: x.todense(), accept_sparse=True)),\n",
    "                     ('Classif', LinearSVC())])\n",
    "ingr_clf.fit(df['ingredients'], labels)"
   ]
  },
  {
   "cell_type": "code",
   "execution_count": 13,
   "metadata": {
    "_uuid": "be703aee1a1a6acc12b82cf25e01a6cc4ffcbbc3"
   },
   "outputs": [],
   "source": [
    "testDf = pd.read_json('./test.json')\n",
    "testDf['ingredients'] = testDf['ingredients'].apply(lambda x: '|'.join(x))\n",
    "predictedEncoded = ingr_clf.predict(testDf['ingredients'])\n",
    "predictedLabels = labelEncoder.inverse_transform(predictedEncoded)\n",
    "outDf = testDf[['id']]\n",
    "outDf['cuisine'] = predictedLabels\n",
    "outDf.to_csv('submission.csv', index=False)"
   ]
  },
  {
   "cell_type": "code",
   "execution_count": null,
   "metadata": {},
   "outputs": [],
   "source": []
  }
 ],
 "metadata": {
  "kernelspec": {
   "display_name": "Python 3",
   "language": "python",
   "name": "python3"
  },
  "language_info": {
   "codemirror_mode": {
    "name": "ipython",
    "version": 3
   },
   "file_extension": ".py",
   "mimetype": "text/x-python",
   "name": "python",
   "nbconvert_exporter": "python",
   "pygments_lexer": "ipython3",
   "version": "3.7.1"
  }
 },
 "nbformat": 4,
 "nbformat_minor": 1
}
